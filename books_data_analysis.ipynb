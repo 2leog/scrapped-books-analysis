{
 "cells": [
  {
   "cell_type": "code",
   "execution_count": 88,
   "id": "45063cd3",
   "metadata": {},
   "outputs": [],
   "source": [
    "import pandas as pd\n",
    "import matplotlib.pyplot as plt\n",
    "import matplotlib.ticker as ticker\n",
    "import seaborn as sns\n",
    "import numpy as np"
   ]
  },
  {
   "cell_type": "code",
   "execution_count": 206,
   "id": "bcded6ad",
   "metadata": {},
   "outputs": [],
   "source": [
    "data = pd.read_csv(\"books.csv\")"
   ]
  },
  {
   "cell_type": "code",
   "execution_count": 207,
   "id": "c0940330",
   "metadata": {},
   "outputs": [
    {
     "data": {
      "application/vnd.microsoft.datawrangler.viewer.v0+json": {
       "columns": [
        {
         "name": "index",
         "rawType": "int64",
         "type": "integer"
        },
        {
         "name": "Title",
         "rawType": "object",
         "type": "string"
        },
        {
         "name": "Price",
         "rawType": "object",
         "type": "string"
        },
        {
         "name": "Rating",
         "rawType": "object",
         "type": "string"
        },
        {
         "name": "Availability",
         "rawType": "object",
         "type": "string"
        },
        {
         "name": "Category",
         "rawType": "object",
         "type": "string"
        }
       ],
       "conversionMethod": "pd.DataFrame",
       "ref": "12bb5374-659c-4dfc-a07e-38bb212d2d85",
       "rows": [
        [
         "0",
         "A Light in the Attic",
         "Â£51.77",
         "Three",
         "In stock",
         "Poetry"
        ],
        [
         "1",
         "The Dirty Little Secrets of Getting Your Dream Job",
         "Â£33.34",
         "Four",
         "In stock",
         "Business"
        ],
        [
         "2",
         "Sharp Objects",
         "Â£47.82",
         "Four",
         "In stock",
         "Mystery"
        ],
        [
         "3",
         "Sapiens: A Brief History of Humankind",
         "Â£54.23",
         "Five",
         "In stock",
         "History"
        ],
        [
         "4",
         "Tipping the Velvet",
         "Â£53.74",
         "One",
         "In stock",
         "Historical Fiction"
        ],
        [
         "5",
         "The Requiem Red",
         "Â£22.65",
         "One",
         "In stock",
         "Young Adult"
        ],
        [
         "6",
         "The Coming Woman: A Novel Based on the Life of the Infamous Feminist, Victoria Woodhull",
         "Â£17.93",
         "Three",
         "In stock",
         "Default"
        ],
        [
         "7",
         "Soumission",
         "Â£50.10",
         "One",
         "In stock",
         "Fiction"
        ],
        [
         "8",
         "The Boys in the Boat: Nine Americans and Their Epic Quest for Gold at the 1936 Berlin Olympics",
         "Â£22.60",
         "Four",
         "In stock",
         "Default"
        ],
        [
         "9",
         "The Black Maria",
         "Â£52.15",
         "One",
         "In stock",
         "Poetry"
        ],
        [
         "10",
         "Starving Hearts (Triangular Trade Trilogy, #1)",
         "Â£13.99",
         "Two",
         "In stock",
         "Default"
        ],
        [
         "11",
         "Mesaerion: The Best Science Fiction Stories 1800-1849",
         "Â£37.59",
         "One",
         "In stock",
         "Science Fiction"
        ],
        [
         "12",
         "Libertarianism for Beginners",
         "Â£51.33",
         "Two",
         "In stock",
         "Politics"
        ],
        [
         "13",
         "Rip it Up and Start Again",
         "Â£35.02",
         "Five",
         "In stock",
         "Music"
        ],
        [
         "14",
         "It's Only the Himalayas",
         "Â£45.17",
         "Two",
         "In stock",
         "Travel"
        ],
        [
         "15",
         "Set Me Free",
         "Â£17.46",
         "Five",
         "In stock",
         "Young Adult"
        ],
        [
         "16",
         "Shakespeare's Sonnets",
         "Â£20.66",
         "Four",
         "In stock",
         "Poetry"
        ],
        [
         "17",
         "Scott Pilgrim's Precious Little Life (Scott Pilgrim #1)",
         "Â£52.29",
         "Five",
         "In stock",
         "Sequential Art"
        ],
        [
         "18",
         "Our Band Could Be Your Life: Scenes from the American Indie Underground, 1981-1991",
         "Â£57.25",
         "Three",
         "In stock",
         "Music"
        ],
        [
         "19",
         "Olio",
         "Â£23.88",
         "One",
         "In stock",
         "Poetry"
        ],
        [
         "20",
         "Aladdin and His Wonderful Lamp",
         "Â£53.13",
         "Three",
         "In stock",
         "Default"
        ],
        [
         "21",
         "America's Cradle of Quarterbacks: Western Pennsylvania's Football Factory from Johnny Unitas to Joe Montana",
         "Â£22.50",
         "Three",
         "In stock",
         "Default"
        ],
        [
         "22",
         "Wall and Piece",
         "Â£44.18",
         "Four",
         "In stock",
         "Art"
        ],
        [
         "23",
         "Foolproof Preserving: A Guide to Small Batch Jams, Jellies, Pickles, Condiments, and More: A Foolproof Guide to Making Small Batch Jams, Jellies, Pickles, Condiments, and More",
         "Â£30.52",
         "Three",
         "In stock",
         "Food and Drink"
        ],
        [
         "24",
         "In Her Wake",
         "Â£12.84",
         "One",
         "In stock",
         "Thriller"
        ],
        [
         "25",
         "Black Dust",
         "Â£34.53",
         "Five",
         "In stock",
         "Romance"
        ],
        [
         "26",
         "Worlds Elsewhere: Journeys Around Shakespeareâs Globe",
         "Â£40.30",
         "Five",
         "In stock",
         "Nonfiction"
        ],
        [
         "27",
         "How Music Works",
         "Â£37.32",
         "Two",
         "In stock",
         "Music"
        ],
        [
         "28",
         "Birdsong: A Story in Pictures",
         "Â£54.64",
         "Three",
         "In stock",
         "Childrens"
        ],
        [
         "29",
         "Chase Me (Paris Nights #2)",
         "Â£25.27",
         "Five",
         "In stock",
         "Romance"
        ],
        [
         "30",
         "The Bear and the Piano",
         "Â£36.89",
         "One",
         "In stock",
         "Childrens"
        ],
        [
         "31",
         "The Elephant Tree",
         "Â£23.82",
         "Five",
         "In stock",
         "Thriller"
        ],
        [
         "32",
         "Sophie's World",
         "Â£15.94",
         "Five",
         "In stock",
         "Philosophy"
        ],
        [
         "33",
         "You can't bury them all: Poems",
         "Â£33.63",
         "Two",
         "In stock",
         "Poetry"
        ],
        [
         "34",
         "The Five Love Languages: How to Express Heartfelt Commitment to Your Mate",
         "Â£31.05",
         "Three",
         "In stock",
         "Nonfiction"
        ],
        [
         "35",
         "The Four Agreements: A Practical Guide to Personal Freedom",
         "Â£17.66",
         "Five",
         "In stock",
         "Spirituality"
        ],
        [
         "36",
         "Penny Maybe",
         "Â£33.29",
         "Three",
         "In stock",
         "Default"
        ],
        [
         "37",
         "In a Dark, Dark Wood",
         "Â£19.63",
         "One",
         "In stock",
         "Mystery"
        ],
        [
         "38",
         "Maude (1883-1993):She Grew Up with the country",
         "Â£18.02",
         "Two",
         "In stock",
         "Default"
        ],
        [
         "39",
         "Behind Closed Doors",
         "Â£52.22",
         "Four",
         "In stock",
         "Thriller"
        ],
        [
         "40",
         "Without Borders (Wanderlove #1)",
         "Â£45.07",
         "Two",
         "In stock",
         "New Adult"
        ],
        [
         "41",
         "#HigherSelfie: Wake Up Your Life. Free Your Soul. Find Your Tribe.",
         "Â£23.11",
         "Five",
         "In stock",
         "Nonfiction"
        ],
        [
         "42",
         "Reasons to Stay Alive",
         "Â£26.41",
         "Two",
         "In stock",
         "Nonfiction"
        ],
        [
         "43",
         "Private Paris (Private #10)",
         "Â£47.61",
         "Five",
         "In stock",
         "Fiction"
        ],
        [
         "44",
         "Slow States of Collapse: Poems",
         "Â£57.31",
         "Three",
         "In stock",
         "Poetry"
        ],
        [
         "45",
         "When We Collided",
         "Â£31.77",
         "One",
         "In stock",
         "Contemporary"
        ],
        [
         "46",
         "Unseen City: The Majesty of Pigeons, the Discreet Charm of Snails & Other Wonders of the Urban Wilderness",
         "Â£44.18",
         "Four",
         "In stock",
         "Nonfiction"
        ],
        [
         "47",
         "Untitled Collection: Sabbath Poems 2014",
         "Â£14.27",
         "Four",
         "In stock",
         "Poetry"
        ],
        [
         "48",
         "Unicorn Tracks",
         "Â£18.78",
         "Three",
         "In stock",
         "Fantasy"
        ],
        [
         "49",
         "We Love You, Charlie Freeman",
         "Â£50.27",
         "Five",
         "In stock",
         "Fiction"
        ]
       ],
       "shape": {
        "columns": 5,
        "rows": 1000
       }
      },
      "text/html": [
       "<div>\n",
       "<style scoped>\n",
       "    .dataframe tbody tr th:only-of-type {\n",
       "        vertical-align: middle;\n",
       "    }\n",
       "\n",
       "    .dataframe tbody tr th {\n",
       "        vertical-align: top;\n",
       "    }\n",
       "\n",
       "    .dataframe thead th {\n",
       "        text-align: right;\n",
       "    }\n",
       "</style>\n",
       "<table border=\"1\" class=\"dataframe\">\n",
       "  <thead>\n",
       "    <tr style=\"text-align: right;\">\n",
       "      <th></th>\n",
       "      <th>Title</th>\n",
       "      <th>Price</th>\n",
       "      <th>Rating</th>\n",
       "      <th>Availability</th>\n",
       "      <th>Category</th>\n",
       "    </tr>\n",
       "  </thead>\n",
       "  <tbody>\n",
       "    <tr>\n",
       "      <th>0</th>\n",
       "      <td>A Light in the Attic</td>\n",
       "      <td>Â£51.77</td>\n",
       "      <td>Three</td>\n",
       "      <td>In stock</td>\n",
       "      <td>Poetry</td>\n",
       "    </tr>\n",
       "    <tr>\n",
       "      <th>1</th>\n",
       "      <td>The Dirty Little Secrets of Getting Your Dream...</td>\n",
       "      <td>Â£33.34</td>\n",
       "      <td>Four</td>\n",
       "      <td>In stock</td>\n",
       "      <td>Business</td>\n",
       "    </tr>\n",
       "    <tr>\n",
       "      <th>2</th>\n",
       "      <td>Sharp Objects</td>\n",
       "      <td>Â£47.82</td>\n",
       "      <td>Four</td>\n",
       "      <td>In stock</td>\n",
       "      <td>Mystery</td>\n",
       "    </tr>\n",
       "    <tr>\n",
       "      <th>3</th>\n",
       "      <td>Sapiens: A Brief History of Humankind</td>\n",
       "      <td>Â£54.23</td>\n",
       "      <td>Five</td>\n",
       "      <td>In stock</td>\n",
       "      <td>History</td>\n",
       "    </tr>\n",
       "    <tr>\n",
       "      <th>4</th>\n",
       "      <td>Tipping the Velvet</td>\n",
       "      <td>Â£53.74</td>\n",
       "      <td>One</td>\n",
       "      <td>In stock</td>\n",
       "      <td>Historical Fiction</td>\n",
       "    </tr>\n",
       "    <tr>\n",
       "      <th>...</th>\n",
       "      <td>...</td>\n",
       "      <td>...</td>\n",
       "      <td>...</td>\n",
       "      <td>...</td>\n",
       "      <td>...</td>\n",
       "    </tr>\n",
       "    <tr>\n",
       "      <th>995</th>\n",
       "      <td>1,000 Places to See Before You Die</td>\n",
       "      <td>Â£26.08</td>\n",
       "      <td>Five</td>\n",
       "      <td>In stock</td>\n",
       "      <td>Travel</td>\n",
       "    </tr>\n",
       "    <tr>\n",
       "      <th>996</th>\n",
       "      <td>Bridget Jones's Diary (Bridget Jones #1)</td>\n",
       "      <td>Â£29.82</td>\n",
       "      <td>One</td>\n",
       "      <td>In stock</td>\n",
       "      <td>Womens Fiction</td>\n",
       "    </tr>\n",
       "    <tr>\n",
       "      <th>997</th>\n",
       "      <td>A Spy's Devotion (The Regency Spies of London #1)</td>\n",
       "      <td>Â£16.97</td>\n",
       "      <td>Five</td>\n",
       "      <td>In stock</td>\n",
       "      <td>Historical Fiction</td>\n",
       "    </tr>\n",
       "    <tr>\n",
       "      <th>998</th>\n",
       "      <td>Ajin: Demi-Human, Volume 1 (Ajin: Demi-Human #1)</td>\n",
       "      <td>Â£57.06</td>\n",
       "      <td>Four</td>\n",
       "      <td>In stock</td>\n",
       "      <td>Sequential Art</td>\n",
       "    </tr>\n",
       "    <tr>\n",
       "      <th>999</th>\n",
       "      <td>Beyond Good and Evil</td>\n",
       "      <td>Â£43.38</td>\n",
       "      <td>One</td>\n",
       "      <td>In stock</td>\n",
       "      <td>Philosophy</td>\n",
       "    </tr>\n",
       "  </tbody>\n",
       "</table>\n",
       "<p>1000 rows × 5 columns</p>\n",
       "</div>"
      ],
      "text/plain": [
       "                                                 Title    Price Rating  \\\n",
       "0                                 A Light in the Attic  Â£51.77  Three   \n",
       "1    The Dirty Little Secrets of Getting Your Dream...  Â£33.34   Four   \n",
       "2                                        Sharp Objects  Â£47.82   Four   \n",
       "3                Sapiens: A Brief History of Humankind  Â£54.23   Five   \n",
       "4                                   Tipping the Velvet  Â£53.74    One   \n",
       "..                                                 ...      ...    ...   \n",
       "995                 1,000 Places to See Before You Die  Â£26.08   Five   \n",
       "996           Bridget Jones's Diary (Bridget Jones #1)  Â£29.82    One   \n",
       "997  A Spy's Devotion (The Regency Spies of London #1)  Â£16.97   Five   \n",
       "998   Ajin: Demi-Human, Volume 1 (Ajin: Demi-Human #1)  Â£57.06   Four   \n",
       "999                               Beyond Good and Evil  Â£43.38    One   \n",
       "\n",
       "    Availability            Category  \n",
       "0       In stock              Poetry  \n",
       "1       In stock            Business  \n",
       "2       In stock             Mystery  \n",
       "3       In stock             History  \n",
       "4       In stock  Historical Fiction  \n",
       "..           ...                 ...  \n",
       "995     In stock              Travel  \n",
       "996     In stock      Womens Fiction  \n",
       "997     In stock  Historical Fiction  \n",
       "998     In stock      Sequential Art  \n",
       "999     In stock          Philosophy  \n",
       "\n",
       "[1000 rows x 5 columns]"
      ]
     },
     "execution_count": 207,
     "metadata": {},
     "output_type": "execute_result"
    }
   ],
   "source": [
    "data"
   ]
  },
  {
   "cell_type": "code",
   "execution_count": 208,
   "id": "7d0cd41c",
   "metadata": {},
   "outputs": [],
   "source": [
    "# Removing the symbol from the price and transforming it to float\n",
    "data['Price'] = data['Price'].str.replace(\"Â£\", \"\", regex=False).astype(float)"
   ]
  },
  {
   "cell_type": "code",
   "execution_count": 209,
   "id": "d4a68e29",
   "metadata": {},
   "outputs": [],
   "source": [
    "# Creating a rating map that'll be usefull to creating a numeric column of ratings\n",
    "rating_map = {\n",
    "    \"One\": 1,\n",
    "    \"Two\": 2,\n",
    "    \"Three\": 3,\n",
    "    \"Four\": 4,\n",
    "    \"Five\": 5\n",
    "}\n",
    "\n",
    "# Creating a numeric column of ratings\n",
    "data[\"Rating_Num\"] = data[\"Rating\"].map(rating_map)"
   ]
  },
  {
   "cell_type": "code",
   "execution_count": 210,
   "id": "9d223a6c",
   "metadata": {},
   "outputs": [],
   "source": [
    "# Creating a series with the top 9 categories plus the sum of all the other categories (which make the category \"Others\")\n",
    "categories_perc = round(data['Category'].value_counts()*100/data['Category'].value_counts().sum(), 2)\n",
    "\n",
    "top_9_categories_perc = pd.Series(categories_perc[:9])\n",
    "others_sum = categories_perc[9:].sum()\n",
    "others_sum = pd.Series(others_sum, index=['Others'])\n",
    "\n",
    "top_10_categories_perc = pd.concat([top_9_categories_perc, others_sum])"
   ]
  },
  {
   "cell_type": "code",
   "execution_count": 211,
   "id": "da40de3c",
   "metadata": {},
   "outputs": [],
   "source": [
    "# Creating a column with the price ranges \n",
    "bins=[10, 15, 20, 25, 30, 35, 40, 45, 50, 55, 60]\n",
    "labels=['10-15', '15-20', '20-25', '25-30', '30-35', '35-40', '40-45', '45-50', '50-55', '55-60']\n",
    "\n",
    "data['PriceRange'] = pd.cut(data['Price'], bins=bins, labels=labels, right=False)"
   ]
  },
  {
   "cell_type": "code",
   "execution_count": 212,
   "id": "ce81c461",
   "metadata": {},
   "outputs": [],
   "source": [
    "count_price_range = data.groupby(by='PriceRange', observed=True).agg(['count'])['Price']#.sort_values(by='count', ascending=False)\n",
    "count_price_range['percentage'] = round(count_price_range['count']*100/count_price_range['count'].sum(), 2)"
   ]
  },
  {
   "cell_type": "code",
   "execution_count": 217,
   "id": "5dee1f86",
   "metadata": {},
   "outputs": [
    {
     "data": {
      "application/vnd.microsoft.datawrangler.viewer.v0+json": {
       "columns": [
        {
         "name": "PriceRange",
         "rawType": "category",
         "type": "unknown"
        },
        {
         "name": "count",
         "rawType": "int64",
         "type": "integer"
        },
        {
         "name": "percentage",
         "rawType": "float64",
         "type": "float"
        }
       ],
       "conversionMethod": "pd.DataFrame",
       "ref": "686be9f2-3b7f-4d50-a533-cff1469a2c7f",
       "rows": [
        [
         "10-15",
         "106",
         "10.6"
        ],
        [
         "15-20",
         "90",
         "9.0"
        ],
        [
         "20-25",
         "103",
         "10.3"
        ],
        [
         "25-30",
         "103",
         "10.3"
        ],
        [
         "30-35",
         "82",
         "8.2"
        ],
        [
         "35-40",
         "113",
         "11.3"
        ],
        [
         "40-45",
         "102",
         "10.2"
        ],
        [
         "45-50",
         "103",
         "10.3"
        ],
        [
         "50-55",
         "100",
         "10.0"
        ],
        [
         "55-60",
         "98",
         "9.8"
        ]
       ],
       "shape": {
        "columns": 2,
        "rows": 10
       }
      },
      "text/html": [
       "<div>\n",
       "<style scoped>\n",
       "    .dataframe tbody tr th:only-of-type {\n",
       "        vertical-align: middle;\n",
       "    }\n",
       "\n",
       "    .dataframe tbody tr th {\n",
       "        vertical-align: top;\n",
       "    }\n",
       "\n",
       "    .dataframe thead th {\n",
       "        text-align: right;\n",
       "    }\n",
       "</style>\n",
       "<table border=\"1\" class=\"dataframe\">\n",
       "  <thead>\n",
       "    <tr style=\"text-align: right;\">\n",
       "      <th></th>\n",
       "      <th>count</th>\n",
       "      <th>percentage</th>\n",
       "    </tr>\n",
       "    <tr>\n",
       "      <th>PriceRange</th>\n",
       "      <th></th>\n",
       "      <th></th>\n",
       "    </tr>\n",
       "  </thead>\n",
       "  <tbody>\n",
       "    <tr>\n",
       "      <th>10-15</th>\n",
       "      <td>106</td>\n",
       "      <td>10.6</td>\n",
       "    </tr>\n",
       "    <tr>\n",
       "      <th>15-20</th>\n",
       "      <td>90</td>\n",
       "      <td>9.0</td>\n",
       "    </tr>\n",
       "    <tr>\n",
       "      <th>20-25</th>\n",
       "      <td>103</td>\n",
       "      <td>10.3</td>\n",
       "    </tr>\n",
       "    <tr>\n",
       "      <th>25-30</th>\n",
       "      <td>103</td>\n",
       "      <td>10.3</td>\n",
       "    </tr>\n",
       "    <tr>\n",
       "      <th>30-35</th>\n",
       "      <td>82</td>\n",
       "      <td>8.2</td>\n",
       "    </tr>\n",
       "    <tr>\n",
       "      <th>35-40</th>\n",
       "      <td>113</td>\n",
       "      <td>11.3</td>\n",
       "    </tr>\n",
       "    <tr>\n",
       "      <th>40-45</th>\n",
       "      <td>102</td>\n",
       "      <td>10.2</td>\n",
       "    </tr>\n",
       "    <tr>\n",
       "      <th>45-50</th>\n",
       "      <td>103</td>\n",
       "      <td>10.3</td>\n",
       "    </tr>\n",
       "    <tr>\n",
       "      <th>50-55</th>\n",
       "      <td>100</td>\n",
       "      <td>10.0</td>\n",
       "    </tr>\n",
       "    <tr>\n",
       "      <th>55-60</th>\n",
       "      <td>98</td>\n",
       "      <td>9.8</td>\n",
       "    </tr>\n",
       "  </tbody>\n",
       "</table>\n",
       "</div>"
      ],
      "text/plain": [
       "            count  percentage\n",
       "PriceRange                   \n",
       "10-15         106        10.6\n",
       "15-20          90         9.0\n",
       "20-25         103        10.3\n",
       "25-30         103        10.3\n",
       "30-35          82         8.2\n",
       "35-40         113        11.3\n",
       "40-45         102        10.2\n",
       "45-50         103        10.3\n",
       "50-55         100        10.0\n",
       "55-60          98         9.8"
      ]
     },
     "execution_count": 217,
     "metadata": {},
     "output_type": "execute_result"
    }
   ],
   "source": [
    "count_price_range"
   ]
  },
  {
   "cell_type": "code",
   "execution_count": 218,
   "id": "94278e68",
   "metadata": {},
   "outputs": [],
   "source": [
    "count_rating = data.groupby(by='Rating_Num', observed=True).agg(['count'])['Price'].sort_index()\n",
    "count_rating['percentage'] = round(count_rating['count']*100/count_rating['count'].sum(), 2)"
   ]
  },
  {
   "cell_type": "code",
   "execution_count": 219,
   "id": "9306e790",
   "metadata": {},
   "outputs": [
    {
     "data": {
      "application/vnd.microsoft.datawrangler.viewer.v0+json": {
       "columns": [
        {
         "name": "Rating_Num",
         "rawType": "int64",
         "type": "integer"
        },
        {
         "name": "count",
         "rawType": "int64",
         "type": "integer"
        },
        {
         "name": "percentage",
         "rawType": "float64",
         "type": "float"
        }
       ],
       "conversionMethod": "pd.DataFrame",
       "ref": "f638fbca-0373-49a2-b508-eedd55a06c12",
       "rows": [
        [
         "1",
         "226",
         "22.6"
        ],
        [
         "2",
         "196",
         "19.6"
        ],
        [
         "3",
         "203",
         "20.3"
        ],
        [
         "4",
         "179",
         "17.9"
        ],
        [
         "5",
         "196",
         "19.6"
        ]
       ],
       "shape": {
        "columns": 2,
        "rows": 5
       }
      },
      "text/html": [
       "<div>\n",
       "<style scoped>\n",
       "    .dataframe tbody tr th:only-of-type {\n",
       "        vertical-align: middle;\n",
       "    }\n",
       "\n",
       "    .dataframe tbody tr th {\n",
       "        vertical-align: top;\n",
       "    }\n",
       "\n",
       "    .dataframe thead th {\n",
       "        text-align: right;\n",
       "    }\n",
       "</style>\n",
       "<table border=\"1\" class=\"dataframe\">\n",
       "  <thead>\n",
       "    <tr style=\"text-align: right;\">\n",
       "      <th></th>\n",
       "      <th>count</th>\n",
       "      <th>percentage</th>\n",
       "    </tr>\n",
       "    <tr>\n",
       "      <th>Rating_Num</th>\n",
       "      <th></th>\n",
       "      <th></th>\n",
       "    </tr>\n",
       "  </thead>\n",
       "  <tbody>\n",
       "    <tr>\n",
       "      <th>1</th>\n",
       "      <td>226</td>\n",
       "      <td>22.6</td>\n",
       "    </tr>\n",
       "    <tr>\n",
       "      <th>2</th>\n",
       "      <td>196</td>\n",
       "      <td>19.6</td>\n",
       "    </tr>\n",
       "    <tr>\n",
       "      <th>3</th>\n",
       "      <td>203</td>\n",
       "      <td>20.3</td>\n",
       "    </tr>\n",
       "    <tr>\n",
       "      <th>4</th>\n",
       "      <td>179</td>\n",
       "      <td>17.9</td>\n",
       "    </tr>\n",
       "    <tr>\n",
       "      <th>5</th>\n",
       "      <td>196</td>\n",
       "      <td>19.6</td>\n",
       "    </tr>\n",
       "  </tbody>\n",
       "</table>\n",
       "</div>"
      ],
      "text/plain": [
       "            count  percentage\n",
       "Rating_Num                   \n",
       "1             226        22.6\n",
       "2             196        19.6\n",
       "3             203        20.3\n",
       "4             179        17.9\n",
       "5             196        19.6"
      ]
     },
     "execution_count": 219,
     "metadata": {},
     "output_type": "execute_result"
    }
   ],
   "source": [
    "count_rating"
   ]
  },
  {
   "cell_type": "code",
   "execution_count": 227,
   "id": "f6185ff7",
   "metadata": {},
   "outputs": [
    {
     "data": {
      "image/png": "[encoded data removed]",
      "text/plain": [
       "<Figure size 700x1200 with 3 Axes>"
      ]
     },
     "metadata": {},
     "output_type": "display_data"
    }
   ],
   "source": [
    "fig, ax = plt.subplots(figsize = (7, 12), nrows=3, ncols=1)\n",
    "\n",
    "ax = ax.flatten()\n",
    "\n",
    "categories_bar = ax[0].bar(\n",
    "    x=top_10_categories_perc.index,\n",
    "    height=top_10_categories_perc,\n",
    "    color='skyblue'\n",
    ")\n",
    "\n",
    "ax[0].bar_label(\n",
    "    container=categories_bar,\n",
    "    labels=top_10_categories_perc\n",
    ")\n",
    "\n",
    "ax[0].set_xticks(ticks=top_10_categories_perc.index)\n",
    "ax[0].set_xticklabels(labels=top_10_categories_perc.index, rotation=45)\n",
    "ax[0].yaxis.set_major_formatter(ticker.PercentFormatter(xmax=100, decimals=1))\n",
    "\n",
    "price_range_bar = ax[1].bar(\n",
    "    x=count_price_range.index,\n",
    "    height=count_price_range['percentage'],\n",
    "    color='skyblue'\n",
    ")\n",
    "\n",
    "ax[1].bar_label(\n",
    "    container=price_range_bar,\n",
    "    labels=count_price_range['percentage']\n",
    ")\n",
    "\n",
    "ax[1].set_ylim(bottom=0, top=count_price_range['percentage'].max()+5)\n",
    "ax[1].set_xticks(ticks=count_price_range.index)\n",
    "#ax.set_xticklabels(labels=count_price_range.index, rotation=45)\n",
    "ax[1].yaxis.set_major_formatter(ticker.PercentFormatter(xmax=100, decimals=1))\n",
    "\n",
    "rating_bar = ax[2].bar(\n",
    "    x=count_rating.index,\n",
    "    height=count_rating['percentage'],\n",
    "    color='skyblue'\n",
    ")\n",
    "\n",
    "ax[2].bar_label(\n",
    "    container=rating_bar,\n",
    "    labels=count_rating['percentage']\n",
    ")\n",
    "\n",
    "ax[2].set_ylim(bottom=0, top=count_rating['percentage'].max()+5)\n",
    "ax[2].set_xticks(ticks=count_rating.index)\n",
    "#ax.set_xticklabels(labels=count_rating.index, rotation=45)\n",
    "ax[2].yaxis.set_major_formatter(ticker.PercentFormatter(xmax=100, decimals=1))\n",
    "\n",
    "plt.tight_layout()\n",
    "\n",
    "plt.show()"
   ]
  }
 ],
 "metadata": {
  "kernelspec": {
   "display_name": "web_scrapping_study_venv",
   "language": "python",
   "name": "python3"
  },
  "language_info": {
   "codemirror_mode": {
    "name": "ipython",
    "version": 3
   },
   "file_extension": ".py",
   "mimetype": "text/x-python",
   "name": "python",
   "nbconvert_exporter": "python",
   "pygments_lexer": "ipython3",
   "version": "3.12.4"
  }
 },
 "nbformat": 4,
 "nbformat_minor": 5
}
